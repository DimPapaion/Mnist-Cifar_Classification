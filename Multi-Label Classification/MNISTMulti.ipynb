{
 "cells": [
  {
   "cell_type": "code",
   "execution_count": null,
   "metadata": {},
   "outputs": [],
   "source": [
    "import numpy as np \n",
    "import pandas as pd\n",
    "%matplotlib inline\n",
    "import matplotlib.pyplot as plt"
   ]
  },
  {
   "cell_type": "code",
   "execution_count": null,
   "metadata": {},
   "outputs": [],
   "source": [
    "from sklearn.model_selection import train_test_split\n",
    "from sklearn.decomposition import PCA, KernelPCA\n",
    "from sklearn.manifold import TSNE"
   ]
  },
  {
   "cell_type": "code",
   "execution_count": null,
   "metadata": {},
   "outputs": [],
   "source": [
    "from sklearn import svm\n",
    "from time import time\n",
    "from sklearn.metrics import confusion_matrix\n",
    "from sklearn.metrics import accuracy_score\n",
    "from sklearn.metrics import classification_report"
   ]
  },
  {
   "cell_type": "code",
   "execution_count": null,
   "metadata": {},
   "outputs": [],
   "source": [
    "from sklearn.neighbors import KNeighborsClassifier, NearestCentroid"
   ]
  },
  {
   "cell_type": "code",
   "execution_count": null,
   "metadata": {},
   "outputs": [],
   "source": [
    "from sklearn.discriminant_analysis import LinearDiscriminantAnalysis"
   ]
  },
  {
   "cell_type": "code",
   "execution_count": null,
   "metadata": {},
   "outputs": [],
   "source": [
    "mnist = pd.read_csv(\"resources/data.csv\")\n"
   ]
  },
  {
   "cell_type": "code",
   "execution_count": null,
   "metadata": {},
   "outputs": [],
   "source": [
    "# Selecting a subset of mnist\n",
    "\n",
    "data = mnist[:20000]"
   ]
  },
  {
   "cell_type": "code",
   "execution_count": null,
   "metadata": {},
   "outputs": [],
   "source": [
    "data.shape"
   ]
  },
  {
   "cell_type": "code",
   "execution_count": null,
   "metadata": {},
   "outputs": [],
   "source": [
    "# Preprocessing the data\n",
    "\n",
    "X = data.drop(columns='label')\n",
    "y = data['label']"
   ]
  },
  {
   "cell_type": "code",
   "execution_count": null,
   "metadata": {},
   "outputs": [],
   "source": [
    "#Normalazing the Data \n",
    "\n",
    "X = X / 255.0\n",
    "y = y.astype(\"int64\")"
   ]
  },
  {
   "cell_type": "code",
   "execution_count": null,
   "metadata": {},
   "outputs": [],
   "source": [
    "X"
   ]
  },
  {
   "cell_type": "code",
   "execution_count": null,
   "metadata": {},
   "outputs": [],
   "source": [
    "# Def for visualazing a single imaze from our dataset\n",
    "\n",
    "def viz(n):\n",
    "    number = X.iloc[n, :]\n",
    "    number.shape\n",
    "    number = number.values.reshape(28,28)\n",
    "    plt.imshow(number, cmap='gray')\n",
    "    plt.title(\"Digit\")\n",
    "    return"
   ]
  },
  {
   "cell_type": "code",
   "execution_count": null,
   "metadata": {},
   "outputs": [],
   "source": [
    "viz(34)"
   ]
  },
  {
   "cell_type": "code",
   "execution_count": null,
   "metadata": {},
   "outputs": [],
   "source": [
    "# We scaling our data into 0 and 1 \n",
    "\n",
    "from sklearn.preprocessing import MinMaxScaler\n",
    "mm = MinMaxScaler()\n",
    "X = mm.fit_transform(X)\n"
   ]
  },
  {
   "cell_type": "code",
   "execution_count": null,
   "metadata": {},
   "outputs": [],
   "source": [
    "# Deviting our data into train and test set to perform our SVM model.\n",
    "\n",
    "X_train, X_test, y_train, y_test = train_test_split(X, y, test_size=0.4, random_state=42)"
   ]
  },
  {
   "cell_type": "code",
   "execution_count": null,
   "metadata": {},
   "outputs": [],
   "source": [
    "# We will perform PCA in our X_train and X_test to reduse dimensions. We must keep 90% of our information\n",
    "#So to achieve that we perform this:\n",
    "\n",
    "pca = PCA(0.9)\n",
    "pca.fit(X_train)\n",
    "pca.n_components_"
   ]
  },
  {
   "cell_type": "code",
   "execution_count": null,
   "metadata": {},
   "outputs": [],
   "source": [
    "# As we see if we reduse our dimensions from 784 to 87 we can work much faster and still get more than 90% of our data\n",
    "\n",
    "pca = PCA(n_components=87)\n",
    "# We apply the dimensional reduction in both X_train and X_test \n",
    "\n",
    "X_trainpca = pca.fit_transform(X_train)\n",
    "X_testpca = pca.transform(X_test)"
   ]
  },
  {
   "cell_type": "code",
   "execution_count": null,
   "metadata": {},
   "outputs": [],
   "source": [
    "# Now lets plot using t-SNE our data to see how the train test is:\n",
    "view = TSNE(n_components=2, random_state=123).fit_transform(X_trainpca)\n",
    "plt.figure(figsize=(20,10))\n",
    "plt.scatter(view[:,0], view[:,1], c=y_train, alpha=0.5)\n",
    "plt.xlabel('t-SNE-1')\n",
    "plt.ylabel('t-SNE-2')"
   ]
  },
  {
   "cell_type": "code",
   "execution_count": null,
   "metadata": {},
   "outputs": [],
   "source": [
    "# Defining Hyperparametrs for our model:\n",
    "paramC = [0.001,0.01,0.1,1,5,10]\n",
    "gamm = [0.01,0.1,1]\n",
    "\n"
   ]
  },
  {
   "cell_type": "code",
   "execution_count": null,
   "metadata": {},
   "outputs": [],
   "source": [
    "# Start building our svm with linear kernel:\n",
    "Cl=[]\n",
    "Al=[]\n",
    "Act1=[]\n",
    "\n",
    "for i in paramC:\n",
    "    start = time()\n",
    "    clf = svm.SVC(kernel = 'linear', C=i)\n",
    "    clf.fit(X_trainpca, y_train)\n",
    "    accu = round(accuracy_score(y_train, clf.predict(X_trainpca)),4)*100\n",
    "    accutest = round(accuracy_score(y_test, clf.predict(X_testpca)),4)*100\n",
    "    end = time()\n",
    "    Cl.append(i)\n",
    "    Al.append((accu))\n",
    "    Act1.append(accutest)\n",
    "    print(\"Done in=\", int((end-start)//1),\"   Accuracy Train=\",accu,\"Accuracy Test\",accutest,\"    for C=\",i )\n"
   ]
  },
  {
   "cell_type": "code",
   "execution_count": null,
   "metadata": {},
   "outputs": [],
   "source": [
    "#Making the results in a DataFrame format in order to be able to extrack informations.\n",
    "tl=[0.55,0.27,0.18,0.17,0.26,0.37]\n",
    "resultslin = pd.DataFrame({'time(s) ' : tl,\n",
    "                         'C' : Cl,\n",
    "                        \"Accuracy Score Train\" : Al,\n",
    "                          \"Accuracy Score Test\":Act1},\n",
    "                        columns=['time(s) ','C',\"Accuracy Score Train\",\"Accuracy Score Test\"])"
   ]
  },
  {
   "cell_type": "code",
   "execution_count": null,
   "metadata": {},
   "outputs": [],
   "source": [
    "resultslin.sort_values(\"Accuracy Score Test\",ascending=True)"
   ]
  },
  {
   "cell_type": "code",
   "execution_count": null,
   "metadata": {},
   "outputs": [],
   "source": [
    "# Resulting plots for linear kernel \n",
    "\n",
    "plt.figure(figsize=(10,6))\n",
    "plt.plot(resultslin[\"C\"], resultslin[\"Accuracy Score Train\"])\n",
    "plt.plot(resultslin[\"C\"], resultslin[\"Accuracy Score Test\"])\n",
    "plt.xlabel('C')\n",
    "plt.ylabel('Accuracy')\n",
    "plt.title(\"Kernel Linear\")\n",
    "plt.ylim(60,100)\n",
    "plt.legend(['Accuracy Train','Accuracy Test'])\n",
    "plt.xscale(\"log\")"
   ]
  },
  {
   "cell_type": "code",
   "execution_count": null,
   "metadata": {},
   "outputs": [],
   "source": [
    "# Start building our svm with polynomial kernel:\n",
    "Cp=[]\n",
    "Gp=[]\n",
    "Ap=[]\n",
    "Act2=[]\n",
    "for i in paramC:\n",
    "    for k in gamm:\n",
    "        start = time()\n",
    "        clf = svm.SVC(kernel = 'poly', C=i, gamma=k)\n",
    "        clf.fit(X_trainpca, y_train)\n",
    "        acc = round(accuracy_score(y_train, clf.predict(X_trainpca)),4)*100\n",
    "        accutest = round(accuracy_score(y_test, clf.predict(X_testpca)),4)*100\n",
    "        end = time()\n",
    "        Cp.append(i)\n",
    "        Gp.append(k)\n",
    "        Ap.append(acc)\n",
    "        Act2.append(accutest)\n",
    "        print(\"Done in=\", (end-start)//1,\"   Accuracy score=\",acc,\"Accuracy Test\",accutest,\"for C=\",i,\"for gamma=\",k)\n"
   ]
  },
  {
   "cell_type": "code",
   "execution_count": null,
   "metadata": {},
   "outputs": [],
   "source": [
    "#Resylts for the polynomial Kernel\n",
    "\n",
    "tp=[2.27,1.04,0.36,0.36,0.35,2.22,0.38,0.35,0.35,0.35,2.02,0.35,0.35,0.35,0.35,1.18,0.35,0.35]\n",
    "resultspoly = pd.DataFrame({'time' : tp,\n",
    "                           'C' : Cp,\n",
    "                           'Gamma' : Gp,\n",
    "                           \"Accuracy Score Train\" : Ap,\n",
    "                           \"Accuracy Score Test\":Act2},\n",
    "                        columns=['time','C','Gamma',\"Accuracy Score Train\",\"Accuracy Score Test\"])"
   ]
  },
  {
   "cell_type": "code",
   "execution_count": null,
   "metadata": {},
   "outputs": [],
   "source": [
    "resultspoly.sort_values(\"Accuracy Score Test\",ascending=True)"
   ]
  },
  {
   "cell_type": "code",
   "execution_count": null,
   "metadata": {},
   "outputs": [],
   "source": [
    "# Resulting plots for Polynomial Kernel \n",
    "plt.figure(figsize=(16,8))\n",
    "#                                  for the gamma value 0.01\n",
    "plt.subplot(131)\n",
    "gamma1 = resultspoly[resultspoly['Gamma']==0.01]\n",
    "plt.plot(gamma1[\"C\"], gamma1[\"Accuracy Score Train\"])\n",
    "plt.plot(gamma1[\"C\"], gamma1[\"Accuracy Score Test\"])\n",
    "plt.xlabel('C')\n",
    "plt.ylabel('Accuracy')\n",
    "plt.title(\"Gamma 0.01\")\n",
    "plt.ylim(10,100)\n",
    "plt.legend(['Accuracy Train','Accuracy Test'])\n",
    "plt.xscale(\"log\")\n",
    "#                                For the gamma value 0.1\n",
    "plt.subplot(132)\n",
    "gamma2 = resultspoly[resultspoly['Gamma']==0.1]\n",
    "plt.plot(gamma2[\"C\"], gamma2[\"Accuracy Score Train\"])\n",
    "plt.plot(gamma2[\"C\"], gamma2[\"Accuracy Score Test\"])\n",
    "plt.xlabel('C')\n",
    "plt.ylabel('Accuracy')\n",
    "plt.title(\"Gamma 0.1\")\n",
    "plt.ylim(10,100)\n",
    "plt.legend(['Accuracy Train','Accuracy Test'])\n",
    "plt.xscale(\"log\")\n",
    "#                           for gamma value 1\n",
    "plt.subplot(133)\n",
    "gamma3 = resultspoly[resultspoly['Gamma']==1]\n",
    "plt.plot(gamma3[\"C\"], gamma3[\"Accuracy Score Train\"])\n",
    "plt.plot(gamma3[\"C\"], gamma3[\"Accuracy Score Test\"])\n",
    "plt.xlabel('C')\n",
    "plt.ylabel('Accuracy')\n",
    "plt.title(\"Gamma 1\")\n",
    "plt.ylim(10,100)\n",
    "plt.legend(['Accuracy Train','Accuracy Test'])\n",
    "plt.xscale(\"log\")\n"
   ]
  },
  {
   "cell_type": "code",
   "execution_count": null,
   "metadata": {},
   "outputs": [],
   "source": [
    "# Start building our svm with RBF  kernel:\n",
    "\n",
    "Cr=[]\n",
    "Gr=[]\n",
    "Ar=[]\n",
    "Acr=[]\n",
    "for i in paramC:\n",
    "    for k in gamm:\n",
    "        start1 = time()\n",
    "        clf = svm.SVC(kernel = 'rbf', C=i, gamma=k)\n",
    "        clf.fit(X_trainpca, y_train)\n",
    "        accutest = round(accuracy_score(y_test, clf.predict(X_testpca)),4)*100\n",
    "        acc = round(accuracy_score(y_train, clf.predict(X_trainpca)),4)*100\n",
    "        end1 = time()\n",
    "        Cr.append(i)\n",
    "        Gr.append(k)\n",
    "        Ar.append(acc)\n",
    "        Acr.append(accutest)        \n",
    "        print(\"Done in=\", int((end1-start1)//1),\"Accuracy score=\",acc,\"Accuracy Test\",accutest,\"for C=\",i,\"for gamma=\",k)\n"
   ]
  },
  {
   "cell_type": "code",
   "execution_count": null,
   "metadata": {},
   "outputs": [],
   "source": [
    "#Results for RBF Kernel\n",
    "tr=[3.15,3.08,3.00,2.57,3.25,2.30,2.45,2.50,2.48,3.27,0.57,2.02,2.50,3.00,3.42,0.27,2.37,3.27]\n",
    "resultsrbf = pd.DataFrame({'time' : tr,\n",
    "                         'C' : Cr,\n",
    "                        'Gamma' : Gr ,\n",
    "                       \"Accuracy Score Train\" : Ar,\n",
    "                       \"Accuracy Score Test\":Acr},\n",
    "                        columns=['time','C', 'Gamma',\"Accuracy Score Train\",\"Accuracy Score Test\"])\n",
    "resultsrbf.sort_values(\"Accuracy Score Test\",ascending=True)"
   ]
  },
  {
   "cell_type": "code",
   "execution_count": null,
   "metadata": {},
   "outputs": [],
   "source": [
    "# Resulting plots for linear kernel \n",
    "plt.figure(figsize=(16,8))\n",
    "plt.subplot(131)\n",
    "gam1 = resultsrbf[resultsrbf['Gamma']==0.01]\n",
    "plt.plot(gam1[\"C\"], gam1[\"Accuracy Score Train\"])\n",
    "plt.plot(gam1[\"C\"], gam1[\"Accuracy Score Test\"])\n",
    "plt.xlabel('C')\n",
    "plt.ylabel('Accuracy')\n",
    "plt.title(\"Gamma 0.01\")\n",
    "plt.ylim(10,100)\n",
    "plt.legend(['Accuracy Train','Accuracy Test'])\n",
    "plt.xscale(\"log\")\n",
    "\n",
    "plt.subplot(132)\n",
    "gam2 = resultsrbf[resultsrbf['Gamma']==0.1]\n",
    "plt.plot(gam2[\"C\"], gam2[\"Accuracy Score Train\"])\n",
    "plt.plot(gam2[\"C\"], gam2[\"Accuracy Score Test\"])\n",
    "plt.xlabel('C')\n",
    "plt.ylabel('Accuracy')\n",
    "plt.title(\"Gamma 0.1\")\n",
    "plt.ylim(10,100)\n",
    "plt.legend(['Accuracy Train','Accuracy Test'])\n",
    "plt.xscale(\"log\")\n",
    "\n",
    "plt.subplot(133)\n",
    "gam3 = resultsrbf[resultsrbf['Gamma']==1]\n",
    "plt.plot(gam3[\"C\"], gam3[\"Accuracy Score Train\"])\n",
    "plt.plot(gam3[\"C\"], gam3[\"Accuracy Score Test\"])\n",
    "plt.xlabel('C')\n",
    "plt.ylabel('Accuracy')\n",
    "plt.title(\"Gamma 1\")\n",
    "plt.ylim(10,100)\n",
    "plt.legend(['Accuracy Train','Accuracy Test'])\n",
    "plt.xscale(\"log\")"
   ]
  },
  {
   "cell_type": "code",
   "execution_count": null,
   "metadata": {},
   "outputs": [],
   "source": [
    "#Total results for Svm model.\n",
    "\n",
    "Kernel = [\"Linear\", \"Polynomial\",\"RBF\"]\n",
    "timeer = [0.27, 0.35,3.27]\n",
    "C = [0.01,5,1]\n",
    "G = [\"-\",\"0.01\",\"0.01\"]\n",
    "As =[93.64,98.82,97.56]\n",
    "At=[92.59,96.80,95.91]\n",
    "results12 = pd.DataFrame({'Kernel':Kernel,\n",
    "                          'Time(s) ':timeer,\n",
    "                        'C' : C,\n",
    "                        'Gamma' : G ,\n",
    "                        'Accuracy Score Train' : As,\n",
    "                         \"Accuracy Score Test\":At},\n",
    "                        columns=['Kernel','Time(s) ','C', 'Gamma',\"Accuracy Score Train\",\"Accuracy Score Test\"])"
   ]
  },
  {
   "cell_type": "code",
   "execution_count": null,
   "metadata": {},
   "outputs": [],
   "source": [
    "results12 "
   ]
  },
  {
   "cell_type": "code",
   "execution_count": null,
   "metadata": {},
   "outputs": [],
   "source": [
    "# Now we will see the results for our best kernel for both train and test set. \n",
    "clf = svm.SVC(kernel=\"poly\", C=5,gamma=0.01)\n",
    "clf.fit(X_trainpca, y_train)\n",
    "#Predictions\n",
    "y_train_pred = clf.predict(X_trainpca)\n",
    "y_test_pred = clf.predict(X_testpca)\n",
    "#Accuracy score\n",
    "print('Accuracy Score on Train Set: {:.2f}%'.format(accuracy_score(y_train,y_train_pred)*100))\n",
    "print('Accuracy Score on Test Set: {:.2f}%'.format(accuracy_score(y_test,y_test_pred)*100))"
   ]
  },
  {
   "cell_type": "code",
   "execution_count": null,
   "metadata": {},
   "outputs": [],
   "source": [
    "# Confusion matrix for X_train\n",
    "\n",
    "CMTrain = pd.DataFrame(confusion_matrix(y_true=y_train,y_pred=y_train_pred))\n",
    "                  "
   ]
  },
  {
   "cell_type": "code",
   "execution_count": null,
   "metadata": {},
   "outputs": [],
   "source": [
    "CMTrain"
   ]
  },
  {
   "cell_type": "code",
   "execution_count": null,
   "metadata": {},
   "outputs": [],
   "source": [
    "# Confusion matrix for X_test\n",
    "CMTest = pd.DataFrame(confusion_matrix(y_test,y_test_pred))\n",
    "CMTest"
   ]
  },
  {
   "cell_type": "code",
   "execution_count": null,
   "metadata": {},
   "outputs": [],
   "source": [
    "print(classification_report(y_test,y_test_pred))\n",
    "             "
   ]
  },
  {
   "cell_type": "code",
   "execution_count": null,
   "metadata": {},
   "outputs": [],
   "source": [
    "#Cross validation for the k-NN classifier\n",
    "X_traind,X_val,y_traind,y_val = train_test_split(X_trainpca,y_train,test_size=0.1,random_state=84)"
   ]
  },
  {
   "cell_type": "code",
   "execution_count": null,
   "metadata": {},
   "outputs": [],
   "source": [
    "#k-NN classification \n",
    "\n",
    "kn = np.arange(1,30,2)\n",
    "AcValid=[]\n",
    "start=time()\n",
    "for k in kn:\n",
    "    \n",
    "    knn = KNeighborsClassifier(n_neighbors=k)\n",
    "    knn.fit(X_traind,y_traind)\n",
    "    score = round(knn.score(X_val, y_val),4)\n",
    "    AcValid.append(score*100)\n",
    "    end = time()\n",
    "    print(\"Done in:\",(end-start)//1,\"k=%d,  accuracy=%.2f%%\" % (k, score * 100))\n",
    "                          "
   ]
  },
  {
   "cell_type": "code",
   "execution_count": null,
   "metadata": {},
   "outputs": [],
   "source": [
    "Tr = [0.04,0.10,0.15,0.21,0.28,0.34,0.40,0.46,0.53,0.60,1.06,1.13,1.19,1.26,1.33]\n",
    "resultsknn = pd.DataFrame({'time(s) ' : Tr,\n",
    "                        'n_Neighbors' : kn ,\n",
    "                       \"Accuracy score\" : AcValid},\n",
    "                        columns=['time(s) ', 'n_Neighbors',\"Accuracy score\"])\n",
    "\n",
    "resultsknn.sort_values(\"Accuracy score\",ascending=True)"
   ]
  },
  {
   "cell_type": "code",
   "execution_count": null,
   "metadata": {},
   "outputs": [],
   "source": [
    "#k-NN classifier \n",
    "\n",
    "knn = KNeighborsClassifier(n_neighbors=3)\n",
    "knn.fit(X_trainpca,y_train)\n",
    "y_testpred = knn.predict(X_testpca)\n",
    "print('Accuracy Score on Train Set: {:.2f}%'.format(accuracy_score(y_train,knn.predict(X_trainpca))*100))\n",
    "print('Accuracy Score on Test Set: {:.2f}%'.format(accuracy_score(y_test,knn.predict(X_testpca))*100))\n",
    "print(classification_report(y_test,knn.predict(X_testpca)))"
   ]
  },
  {
   "cell_type": "code",
   "execution_count": null,
   "metadata": {},
   "outputs": [],
   "source": [
    "#Nearest Centroid classification \n",
    "metrics=[\"euclidean\",\"manhattan\"]\n",
    "n_param = (0.001,0.01,0.1,1)\n",
    "AcNc=[]\n",
    "start=time()\n",
    "for i in metrics: \n",
    "    for k in n_param:\n",
    "        nc = NearestCentroid(metric=i,shrink_threshold=k)\n",
    "        nc.fit(X_traind,y_traind)\n",
    "        score = round(accuracy_score(y_val,nc.predict(X_val)),4)\n",
    "        AcNc.append(score*100)\n",
    "        end = time()\n",
    "        print(\"Done in:\",(end-start)//1,\"metric =\",i,\"thresholds=\",k ,\"   Accuracy:\",(score *100),\"%\")"
   ]
  },
  {
   "cell_type": "code",
   "execution_count": null,
   "metadata": {},
   "outputs": [],
   "source": [
    "# Nearest Centroid\n",
    "nc = NearestCentroid()\n",
    "nc.fit(X_trainpca,y_train)\n",
    "print('Accuracy Score on Train Set: {:.2f}%'.format(accuracy_score(y_train,nc.predict(X_trainpca))*100))\n",
    "print('Accuracy Score on Test Set: {:.2f}%'.format(accuracy_score(y_test,nc.predict(X_testpca))*100))\n",
    "print(classification_report(y_test,nc.predict(X_testpca)))"
   ]
  },
  {
   "cell_type": "code",
   "execution_count": null,
   "metadata": {},
   "outputs": [],
   "source": [
    "# KPCA+ LDA method using k-NN classifier.\n",
    "\n",
    "co = np.arange(1,750,50)\n",
    "Acc=[]\n",
    "Acct=[]\n",
    "for i in co:\n",
    "    start = time()\n",
    "    # KPCA with rbf kernel \n",
    "    kp = KernelPCA(n_components=i,kernel='rbf')\n",
    "    X_trainkpca = kp.fit_transform(X_train)\n",
    "    X_testkpca = kp.transform(X_test)\n",
    "    \n",
    "    # LDA using n_components as \n",
    "    ld = LinearDiscriminantAnalysis()\n",
    "    X_trainl = ld.fit_transform(X_trainkpca,y_train)\n",
    "    X_testl = ld.transform(X_testkpca)\n",
    "\n",
    "         # fiting our model using k-NN classifier \n",
    "    knn = KNeighborsClassifier(n_neighbors=15)\n",
    "    knn.fit(X_trainl,y_train)\n",
    "    #Calculating accuracy\n",
    "    accTr = round(accuracy_score(y_train,knn.predict(X_trainl)),4)*100\n",
    "    accT = round(accuracy_score(y_test,knn.predict(X_testl)),4)*100\n",
    "    Acc.append(accTr)\n",
    "    Acct.append(accT)\n",
    "    end = time()\n",
    "    print(\"Done in: \",(end-start)//1,\"Accuracy train : \",accTr,\"Accuracy test : \",accT,\"neighbors \",i,)\n",
    "        \n"
   ]
  },
  {
   "cell_type": "code",
   "execution_count": null,
   "metadata": {},
   "outputs": [],
   "source": [
    "#Results for KPCA-LDA for k-NN classification \n",
    "tkp=[1.13,11.15,11.18,11.02,11.08,12.23,16.25,15.35,9.27,15.02,13.22,15.42,15.10,15.17,13.28]\n",
    "resultskn = pd.DataFrame({'time(s) ' : tkp,\n",
    "                           \"components\":co,\n",
    "                       \"Accuracy Score Train\" : Acc,\n",
    "                          \"Accuracy Score Test\":Acct},\n",
    "                        columns=['time(s) ','components',\"Accuracy Score Train\",\"Accuracy Score Test\"])\n",
    "resultskn.sort_values(\"Accuracy Score Test\",ascending=True)"
   ]
  },
  {
   "cell_type": "code",
   "execution_count": null,
   "metadata": {},
   "outputs": [],
   "source": [
    "# KPCA+ LDA method using Nearest Centroid.\n",
    "\n",
    "co = np.arange(1,750,50)\n",
    "Anc=[]\n",
    "Anct=[]\n",
    "for i in co:\n",
    "    start = time()\n",
    "    \n",
    "    # KPCA with rbf kernel \n",
    "    kp = KernelPCA(n_components=i,kernel='rbf')\n",
    "    X_trainkpca = kp.fit_transform(X_train)\n",
    "    X_testkpca = kp.transform(X_test)\n",
    "    \n",
    "    # LDA using undefined n_components \n",
    "    ld = LinearDiscriminantAnalysis()\n",
    "    X_trainl = ld.fit_transform(X_trainkpca,y_train)\n",
    "    X_testl = ld.transform(X_testkpca)\n",
    "    \n",
    "    # fiting our model using Nearest Centriod classifier \n",
    "    nc = NearestCentroid()\n",
    "    nc.fit(X_trainl,y_train)\n",
    "    #calculating accuracy \n",
    "    accTr = round(accuracy_score(y_train,nc.predict(X_trainl)),4)*100\n",
    "    accT = round(accuracy_score(y_test,nc.predict(X_testl)),4)*100\n",
    "    Anc.append(accTr)\n",
    "    Anct.append(accT)\n",
    "    end = time()\n",
    "    print(\"Done in: \",(end-start)//1,\"Accuracy train : \",accTr,\"Accuracy test : \",accT)"
   ]
  },
  {
   "cell_type": "code",
   "execution_count": null,
   "metadata": {},
   "outputs": [],
   "source": [
    "#Results for KPCA-LDA for Nearest centroid classification \n",
    "trn=[0.48,13.05,15.53,8.12,8.13,14.50,17.23,14.02,11.02,10.25,9.22,10.22,10.52,13.55]\n",
    "resultsnc = pd.DataFrame({'time(s) ' : trn,\n",
    "                           \"components\":co,\n",
    "                       \"Accuracy Score Train\" : Anc,\n",
    "                          \"Accuracy Score Test\":Anct},\n",
    "                        columns=['time(s) ',\"components\",\"Accuracy Score Train\",\"Accuracy Score Test\"])\n",
    "resultsnc.sort_values(\"Accuracy Score Test\",ascending=True)"
   ]
  },
  {
   "cell_type": "code",
   "execution_count": null,
   "metadata": {},
   "outputs": [],
   "source": [
    "# Resulting plots\n",
    "\n",
    "plt.figure(figsize=(10,6))\n",
    "#KPCA+LDA ploting for accuracy scores using k-NN classifier\n",
    "plt.subplot(1,2,1)\n",
    "plt.plot(resultskn[\"components\"], resultskn[\"Accuracy Score Train\"])\n",
    "plt.plot(resultskn[\"components\"], resultskn[\"Accuracy Score Test\"])\n",
    "plt.xlabel('components')\n",
    "plt.ylabel('Accuracy')\n",
    "plt.title(\"KPCA+LDA k-NN\")\n",
    "plt.ylim(60,100)\n",
    "plt.legend(['Accuracy Train','Accuracy Test'])\n",
    "#KPCA+LDA ploting for accuracy scores using Nearest Centroid classifier\n",
    "plt.subplot(1,2,2)\n",
    "plt.plot(resultsnc[\"components\"], resultsnc[\"Accuracy Score Train\"])\n",
    "plt.plot(resultsnc[\"components\"], resultsnc[\"Accuracy Score Test\"])\n",
    "plt.xlabel('components')\n",
    "plt.ylabel('Accuracy')\n",
    "plt.title(\"KPCA+LDA Nearest Centroid\")\n",
    "plt.ylim(60,100)\n",
    "plt.legend(['Accuracy Train','Accuracy Test'])"
   ]
  },
  {
   "cell_type": "code",
   "execution_count": null,
   "metadata": {},
   "outputs": [],
   "source": [
    "    # KPCA + LDA k-NN classifier \n",
    "kp = KernelPCA(n_components=701,kernel='rbf')\n",
    "X_trainkpca = kp.fit_transform(X_train)\n",
    "X_testkpca = kp.transform(X_test)\n",
    "    \n",
    "#LDA \n",
    "ld = LinearDiscriminantAnalysis()\n",
    "X_trainl = ld.fit_transform(X_trainkpca,y_train)\n",
    "X_testl = ld.transform(X_testkpca)\n",
    "    \n",
    "#fiting our model \n",
    "knn = KNeighborsClassifier(n_neighbors=5)\n",
    "knn.fit(X_trainl,y_train)\n",
    "y_tpred = knn.predict(X_testl)\n",
    "    #Calculating accuracy\n",
    "print('Accuracy Score on Train Set: {:.2f}%'.format(accuracy_score(y_train,knn.predict(X_trainl))*100))\n",
    "print('Accuracy Score on Test Set: {:.2f}%'.format(accuracy_score(y_test,knn.predict(X_testl))*100))\n",
    "print(classification_report(y_test,y_tpred))"
   ]
  },
  {
   "cell_type": "code",
   "execution_count": null,
   "metadata": {},
   "outputs": [],
   "source": [
    "    # KPCA + LDA Nearest Centroid \n",
    "kp = KernelPCA(n_components=651,kernel='rbf')\n",
    "X_trainkpca = kp.fit_transform(X_train)\n",
    "X_testkpca = kp.transform(X_test)\n",
    "    \n",
    "ld = LinearDiscriminantAnalysis()\n",
    "X_trainl = ld.fit_transform(X_trainkpca,y_train)\n",
    "X_testl = ld.transform(X_testkpca)\n",
    "    \n",
    "\n",
    "nc = NearestCentroid()\n",
    "nc.fit(X_trainl,y_train)\n",
    "print('Accuracy Score on Train Set: {:.2f}%'.format(accuracy_score(y_train,nc.predict(X_trainl))*100))\n",
    "print('Accuracy Score on Test Set: {:.2f}%'.format(accuracy_score(y_test,nc.predict(X_testl))*100))\n",
    "print(classification_report(y_test,nc.predict(X_testl)))"
   ]
  },
  {
   "cell_type": "code",
   "execution_count": null,
   "metadata": {},
   "outputs": [],
   "source": [
    "#The final results for all the methods. \n",
    "\n",
    "Method = [\"SVM\", \"k-NN\",\"Nearest Centroid\",\"KPCA+LDA k-NN\",\"KPCA+LDA Nearest Centroid\"]\n",
    "timeer = [0.35,0.10,0.18,15.37,13.12]\n",
    "At = [98.82,98.02,80.94,97.66,96.29]\n",
    "Atest = [96.80,96.12,81.00,95.41,94.79]\n",
    "resultsfinal = pd.DataFrame({'Method':Method,\n",
    "                          'Time(s) ':timeer,\n",
    "                        'Accuracy Train Set' : At,\n",
    "                         \"Accuracy Test Set\":Atest},\n",
    "                        columns=['Method','Time(s) ','Accuracy Train Set',\"Accuracy Test Set\"])\n",
    "resultsfinal"
   ]
  },
  {
   "cell_type": "code",
   "execution_count": null,
   "metadata": {},
   "outputs": [],
   "source": []
  },
  {
   "cell_type": "code",
   "execution_count": null,
   "metadata": {},
   "outputs": [],
   "source": []
  },
  {
   "cell_type": "code",
   "execution_count": null,
   "metadata": {},
   "outputs": [],
   "source": []
  }
 ],
 "metadata": {
  "kernelspec": {
   "display_name": "Python 3",
   "language": "python",
   "name": "python3"
  },
  "language_info": {
   "codemirror_mode": {
    "name": "ipython",
    "version": 3
   },
   "file_extension": ".py",
   "mimetype": "text/x-python",
   "name": "python",
   "nbconvert_exporter": "python",
   "pygments_lexer": "ipython3",
   "version": "3.7.6"
  }
 },
 "nbformat": 4,
 "nbformat_minor": 4
}
